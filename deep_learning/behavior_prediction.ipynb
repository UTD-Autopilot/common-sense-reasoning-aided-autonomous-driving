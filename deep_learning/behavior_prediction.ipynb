{
 "cells": [
  {
   "cell_type": "code",
   "execution_count": 1,
   "metadata": {},
   "outputs": [],
   "source": [
    "from torchvision import transforms\n",
    "from torch.utils.data import Dataset, DataLoader, random_split\n",
    "import torch\n",
    "from torch.utils.data import Dataset\n",
    "import os\n",
    "import json\n",
    "import numpy as np\n",
    "import matplotlib.pyplot as plt\n",
    "import cv2"
   ]
  },
  {
   "cell_type": "code",
   "execution_count": 2,
   "metadata": {},
   "outputs": [
    {
     "name": "stdout",
     "output_type": "stream",
     "text": [
      "['../data/record\\\\Town01_100npcs_1', '../data/record\\\\Town01_200npcs_1', '../data/record\\\\Town04_100npcs_1', '../data/record\\\\Town05_100npcs_1', '../data/record\\\\Town05_100npcs_2', '../data/record\\\\Town07_100npcs_1', '../data/record\\\\Town07_100npcs_2', '../data/record\\\\Town12_1200npcs_1', '../data/record\\\\Town12_1200npcs_2', '../data/record\\\\Town12_1200npcs_3', '../data/record\\\\Town12_800npcs_1']\n"
     ]
    }
   ],
   "source": [
    "dataset_paths = []\n",
    "records_folder = \"../data/record\"\n",
    "for name in os.listdir(records_folder):\n",
    "   dir = os.path.join(records_folder, name)\n",
    "   if os.path.isdir(dir):\n",
    "      dataset_paths.append(dir)\n",
    "\n",
    "print(dataset_paths)\n",
    "\n",
    "actions = [\n",
    "    \"Void\",\n",
    "    \"Left\",\n",
    "    \"Right\",\n",
    "    \"Straight\",\n",
    "    \"LaneFollow\",\n",
    "    \"ChangeLaneLeft\",\n",
    "    \"ChangeLaneRight\",\n",
    "    \"RoadEnd\",\n",
    "    \"Other\",\n",
    "]\n",
    "actions_index_map = {a: i for i, a in enumerate(actions)}"
   ]
  },
  {
   "cell_type": "code",
   "execution_count": 3,
   "metadata": {},
   "outputs": [
    {
     "name": "stdout",
     "output_type": "stream",
     "text": [
      "46653 11664\n"
     ]
    }
   ],
   "source": [
    "class BehaviorPredictionDataset(Dataset):\n",
    "    def __init__(self, dataset_paths, return_metadata=False, transform=None, sensor_range=50.0, bev_range=50.0):\n",
    "        super().__init__()\n",
    "        self.records = []\n",
    "        self.return_metadata = return_metadata\n",
    "        self.transform = transform\n",
    "        self.sensor_range = sensor_range\n",
    "        self.bev_range = bev_range\n",
    "\n",
    "        for path in dataset_paths:\n",
    "            self.read_data_folder(path)\n",
    "    \n",
    "    def read_data_folder(self, path):\n",
    "        for agent in os.listdir(os.path.join(path, 'agents')):\n",
    "            agent_folder = os.path.join(path, 'agents', agent)\n",
    "\n",
    "            agent_location = {}\n",
    "            for line in open(os.path.join(agent_folder, 'gt_location', 'data.jsonl'), 'r'):\n",
    "                record = json.loads(line)\n",
    "                agent_location[record['frame']] = {\n",
    "                    'location': record['location'],\n",
    "                    'rotation': record['rotation'],\n",
    "                }\n",
    "\n",
    "            vehicle_bbox_records = []\n",
    "            \n",
    "            for line in open(os.path.join(agent_folder, 'gt_vehicle_bbox', 'data.jsonl'), 'r'):\n",
    "                record = json.loads(line)\n",
    "                vehicle_bbox_records.append(record)\n",
    "                frame = record['frame']\n",
    "                for vehicle in record['vehicles']:\n",
    "                    distance = np.linalg.norm(np.array(agent_location[frame]['location'])-np.array(vehicle['location']))\n",
    "                    if distance > self.sensor_range:\n",
    "                        continue\n",
    "                    self.records.append({\n",
    "                        'vehicle_id': vehicle['id'],\n",
    "                        'frame': frame,\n",
    "                        'timestamp': record['timestamp'],\n",
    "                        'current_action': vehicle['current_action'],\n",
    "                        'distance': distance,\n",
    "                        'agent_location': np.array(agent_location[frame]['location']),\n",
    "                        'agent_rotation': np.array(agent_location[frame]['rotation']),\n",
    "                        'vehicle_location': np.array(vehicle['location']),\n",
    "                        'vehicle_rotation': np.array(vehicle['rotation']),\n",
    "                        'bev_image_path': os.path.join(agent_folder, 'birds_view_semantic_camera', str(frame)+'.png'),\n",
    "                        'output_path': os.path.join(agent_folder, 'pred_vehicle_current_action', 'data.jsonl'),\n",
    "                    })\n",
    "    \n",
    "    def __len__(self):\n",
    "        return len(self.records)\n",
    "    \n",
    "    def __getitem__(self, index):\n",
    "        record = self.records[index]\n",
    "        agent_image = cv2.imread(record['bev_image_path'])\n",
    "        agent_image = cv2.cvtColor(agent_image, cv2.COLOR_BGR2RGB)\n",
    "        y = actions_index_map[record['current_action']]\n",
    "        width = agent_image.shape[1]\n",
    "        height = agent_image.shape[0]\n",
    "        assert agent_image.shape[0] == agent_image.shape[1]\n",
    "        img_scale =  agent_image.shape[0] / (self.bev_range*2)\n",
    "        \n",
    "        image = agent_image\n",
    "        # Rotate the image to standard rotation\n",
    "        agent_pitch = record['agent_rotation'][2]\n",
    "        # print(agent_pitch)\n",
    "        mat = cv2.getRotationMatrix2D((width/2, height/2), -agent_pitch, 1.0)\n",
    "        image = cv2.warpAffine(src=agent_image, M=mat, dsize=(width, height))\n",
    "\n",
    "        translation = record['vehicle_location'] - record['agent_location']\n",
    "        # Move the vehicle to the center\n",
    "        translation_matrix = np.array([\n",
    "            [1, 0, -translation[1]*img_scale],\n",
    "            [0, 1, translation[0]*img_scale]\n",
    "        ], dtype=np.float32)\n",
    "\n",
    "        image = cv2.warpAffine(src=image, M=translation_matrix, dsize=(width, height))\n",
    "        \n",
    "        # print(translation[0], translation[1])\n",
    "        # print(translation[0]*img_scale, translation[1]*img_scale)\n",
    "\n",
    "        vehicle_pitch = record['vehicle_rotation'][2]\n",
    "        # print(vehicle_pitch)\n",
    "        mat = cv2.getRotationMatrix2D((width/2, height/2), vehicle_pitch, 1.0)\n",
    "        image = cv2.warpAffine(src=image, M=mat, dsize=(width, height))\n",
    "\n",
    "        # print(record['vehicle_id'])\n",
    "\n",
    "        if self.transform is not None:\n",
    "            image = self.transform(image)\n",
    "\n",
    "        if self.return_metadata:\n",
    "            return image, y, self.records[index]\n",
    "        return image, y\n",
    "\n",
    "preprocess = transforms.Compose([\n",
    "    transforms.ToPILImage(),\n",
    "    transforms.Resize(size=(224, 224)),\n",
    "    transforms.ToTensor(),\n",
    "    transforms.Normalize(mean=[0.485, 0.456, 0.406], std=[0.229, 0.224, 0.225]),\n",
    "])\n",
    "\n",
    "dataset = BehaviorPredictionDataset(dataset_paths, transform=preprocess)\n",
    "\n",
    "train_size = int(len(dataset) * 0.8)\n",
    "test_size = len(dataset) - train_size\n",
    "print(train_size, test_size)\n",
    "train_dataset, test_dataset = random_split(dataset, [train_size, test_size], generator=torch.Generator().manual_seed(233))\n",
    "\n",
    "train_loader = DataLoader(\n",
    "    train_dataset,\n",
    "    batch_size=64,\n",
    "    shuffle=True,\n",
    "    num_workers=0,\n",
    ")\n",
    "\n",
    "test_loader = DataLoader(\n",
    "    test_dataset,\n",
    "    batch_size=64,\n",
    "    shuffle=False,\n",
    ")\n"
   ]
  },
  {
   "cell_type": "code",
   "execution_count": 4,
   "metadata": {},
   "outputs": [
    {
     "name": "stdout",
     "output_type": "stream",
     "text": [
      "58317\n"
     ]
    },
    {
     "name": "stderr",
     "output_type": "stream",
     "text": [
      "Clipping input data to the valid range for imshow with RGB data ([0..1] for floats or [0..255] for integers).\n"
     ]
    },
    {
     "name": "stdout",
     "output_type": "stream",
     "text": [
      "2\n"
     ]
    },
    {
     "data": {
      "image/png": "[encoded data removed]",
      "text/plain": [
       "<Figure size 432x288 with 1 Axes>"
      ]
     },
     "metadata": {
      "needs_background": "light"
     },
     "output_type": "display_data"
    }
   ],
   "source": [
    "print(len(dataset))\n",
    "img, label = dataset[212]\n",
    "plt.imshow(np.array(img).transpose(1, 2, 0))\n",
    "print(label)"
   ]
  },
  {
   "cell_type": "code",
   "execution_count": 5,
   "metadata": {},
   "outputs": [
    {
     "name": "stdout",
     "output_type": "stream",
     "text": [
      "cuda:0\n"
     ]
    },
    {
     "name": "stderr",
     "output_type": "stream",
     "text": [
      "Using cache found in C:\\Users\\IX/.cache\\torch\\hub\\pytorch_vision_v0.10.0\n",
      "d:\\Workspace\\Autopilot\\venv\\lib\\site-packages\\torchvision\\models\\_utils.py:208: UserWarning: The parameter 'pretrained' is deprecated since 0.13 and may be removed in the future, please use 'weights' instead.\n",
      "  warnings.warn(\n",
      "d:\\Workspace\\Autopilot\\venv\\lib\\site-packages\\torchvision\\models\\_utils.py:223: UserWarning: Arguments other than a weight enum or `None` for 'weights' are deprecated since 0.13 and may be removed in the future. The current behavior is equivalent to passing `weights=ResNeXt50_32X4D_Weights.IMAGENET1K_V1`. You can also use `weights=ResNeXt50_32X4D_Weights.DEFAULT` to get the most up-to-date weights.\n",
      "  warnings.warn(msg)\n"
     ]
    }
   ],
   "source": [
    "from torch import nn\n",
    "import torch.optim as optim\n",
    "\n",
    "device = torch.device('cuda:0' if torch.cuda.is_available() else 'cpu')\n",
    "print(device)\n",
    "\n",
    "class BehaviorPredictionModel(nn.Module):\n",
    "    def __init__(self):\n",
    "        super().__init__()\n",
    "        self.backbone = torch.hub.load('pytorch/vision:v0.10.0', 'resnext50_32x4d', pretrained=True)\n",
    "        self.linear = nn.Linear(1000, len(actions))\n",
    "\n",
    "    def forward(self, x):\n",
    "        x = self.backbone(x)\n",
    "        x = self.linear(x)\n",
    "        return x\n",
    "\n",
    "model = BehaviorPredictionModel()\n",
    "model.to(device)\n",
    "\n",
    "criterion = nn.CrossEntropyLoss()\n",
    "optimizer = optim.Adam(model.parameters(), lr=0.001, weight_decay=0)\n",
    "\n",
    "save_dir = '../tmp/BehaviorPrediction/'\n",
    "os.makedirs(save_dir, exist_ok=True)\n"
   ]
  },
  {
   "cell_type": "code",
   "execution_count": 6,
   "metadata": {},
   "outputs": [],
   "source": [
    "try:\n",
    "    model.load_state_dict(torch.load(os.path.join(save_dir, 'model.pth')))\n",
    "    optimizer.load_state_dict(torch.load(os.path.join(save_dir, 'optimizer.pth')))\n",
    "except Exception as e:\n",
    "    print(e)"
   ]
  },
  {
   "cell_type": "code",
   "execution_count": 7,
   "metadata": {},
   "outputs": [
    {
     "name": "stdout",
     "output_type": "stream",
     "text": [
      "Epoch 0 training loss: 1.1275527605733262 accuracy: 0.7796068787574768\n",
      "Epoch 0 testing loss: 0.26713911456162814 accuracy: 0.9148662686347961\n",
      "Epoch 1 training loss: 0.19734056659083715 accuracy: 0.9360598921775818\n",
      "Epoch 1 testing loss: 0.17803489180699072 accuracy: 0.9439300298690796\n",
      "Epoch 2 training loss: 0.13539895854139156 accuracy: 0.9568945169448853\n",
      "Epoch 2 testing loss: 0.13783496369918188 accuracy: 0.9553326368331909\n",
      "Epoch 3 training loss: 0.10317823439178572 accuracy: 0.9662401080131531\n",
      "Epoch 3 testing loss: 0.13175108337194705 accuracy: 0.9619341492652893\n",
      "Epoch 4 training loss: 0.09654968286850407 accuracy: 0.9685765504837036\n",
      "Epoch 4 testing loss: 0.11733692055160963 accuracy: 0.966906726360321\n",
      "Epoch 5 training loss: 0.06958486934975608 accuracy: 0.9768932461738586\n",
      "Epoch 5 testing loss: 0.14087544557704626 accuracy: 0.9603052139282227\n",
      "Epoch 6 training loss: 0.06030145941172191 accuracy: 0.9801942110061646\n",
      "Epoch 6 testing loss: 0.10435182989010068 accuracy: 0.9703360795974731\n",
      "Epoch 7 training loss: 0.05049743943314984 accuracy: 0.9832808375358582\n",
      "Epoch 7 testing loss: 0.12204952689544221 accuracy: 0.965877890586853\n",
      "Epoch 8 training loss: 0.05035491841790919 accuracy: 0.9834951758384705\n",
      "Epoch 8 testing loss: 0.10858839685020999 accuracy: 0.9702503681182861\n",
      "Epoch 9 training loss: 0.043587001611396226 accuracy: 0.9858101606369019\n",
      "Epoch 9 testing loss: 0.1310888304034136 accuracy: 0.9671639204025269\n",
      "Epoch 10 training loss: 0.04168992170448248 accuracy: 0.985917329788208\n",
      "Epoch 10 testing loss: 0.12311954002145453 accuracy: 0.966821014881134\n",
      "Epoch 11 training loss: 0.033135084892102214 accuracy: 0.9882965683937073\n",
      "Epoch 11 testing loss: 0.1047798677047338 accuracy: 0.9737654328346252\n",
      "Epoch 12 training loss: 0.032569226836672294 accuracy: 0.9892611503601074\n",
      "Epoch 12 testing loss: 0.11879688798821444 accuracy: 0.9704217910766602\n",
      "Epoch 13 training loss: 0.028555356944023776 accuracy: 0.9906544089317322\n",
      "Epoch 13 testing loss: 0.1067112349118475 accuracy: 0.9719650149345398\n",
      "Epoch 14 training loss: 0.030376502292039732 accuracy: 0.9905686974525452\n",
      "Epoch 14 testing loss: 0.10276189308977417 accuracy: 0.974022626876831\n",
      "Epoch 15 training loss: 0.03094094119199829 accuracy: 0.9900327920913696\n",
      "Epoch 15 testing loss: 0.12100944843186483 accuracy: 0.9677640795707703\n",
      "Epoch 16 training loss: 0.025050855693983045 accuracy: 0.9924120903015137\n",
      "Epoch 16 testing loss: 0.11378846955237544 accuracy: 0.9726508855819702\n",
      "Epoch 17 training loss: 0.019308931344186434 accuracy: 0.9937838912010193\n",
      "Epoch 17 testing loss: 0.12710691963165333 accuracy: 0.9738511443138123\n",
      "Epoch 18 training loss: 0.022636536291647694 accuracy: 0.9925192594528198\n",
      "Epoch 18 testing loss: 0.11035199841017494 accuracy: 0.9761659502983093\n",
      "Epoch 19 training loss: 0.023995953809338753 accuracy: 0.9924978017807007\n",
      "Epoch 19 testing loss: 0.13032327135999386 accuracy: 0.9743655920028687\n"
     ]
    }
   ],
   "source": [
    "num_epochs = 20\n",
    "for epoch in range(num_epochs):\n",
    "    train_loss = 0.0\n",
    "    train_correct = 0.0\n",
    "    for i, data in enumerate(train_loader):\n",
    "        x, y = data\n",
    "        x = x.to(device)\n",
    "        y = y.to(device)\n",
    "        optimizer.zero_grad()\n",
    "        y_pred = model(x)\n",
    "        loss = criterion(y_pred, y)\n",
    "\n",
    "        with torch.no_grad():\n",
    "            _, predictions = torch.max(y_pred, 1)\n",
    "            train_correct = train_correct + (predictions == y).float().sum()\n",
    "\n",
    "        loss.backward()\n",
    "        optimizer.step()\n",
    "\n",
    "        train_loss += loss.item()\n",
    "    train_loss = train_loss / len(train_loader)\n",
    "    train_acc = train_correct / len(train_dataset)\n",
    "    print(f'Epoch {epoch} training loss: {train_loss} accuracy: {train_acc}')\n",
    "\n",
    "    with torch.no_grad():\n",
    "        test_loss = 0.0\n",
    "        test_correct = 0.0\n",
    "        for i, data in enumerate(test_loader):\n",
    "            x, y = data\n",
    "            x = x.to(device)\n",
    "            y = y.to(device)\n",
    "            y_pred = model(x)\n",
    "            loss = criterion(y_pred, y)\n",
    "            _, predictions = torch.max(y_pred, 1)\n",
    "            test_correct = test_correct + (predictions == y).float().sum()\n",
    "            test_loss += loss.item()\n",
    "        test_loss = test_loss / len(test_loader)\n",
    "        test_acc = test_correct / len(test_dataset)\n",
    "        print(f'Epoch {epoch} testing loss: {test_loss} accuracy: {test_acc}')\n"
   ]
  },
  {
   "cell_type": "code",
   "execution_count": 8,
   "metadata": {},
   "outputs": [],
   "source": [
    "torch.save(model.state_dict(), os.path.join(save_dir, 'model.pth'))\n",
    "torch.save(optimizer.state_dict(), os.path.join(save_dir, 'optimizer.pth'))\n"
   ]
  },
  {
   "cell_type": "code",
   "execution_count": 9,
   "metadata": {},
   "outputs": [
    {
     "name": "stdout",
     "output_type": "stream",
     "text": [
      "Average loss: 1.2253678088221702 accuracy: 0.838726282119751\n"
     ]
    }
   ],
   "source": [
    "def write_pred():\n",
    "    dataset = BehaviorPredictionDataset(dataset_paths, return_metadata=True, transform=preprocess)\n",
    "    dataloader = DataLoader(\n",
    "        dataset,\n",
    "        batch_size=8,\n",
    "        shuffle=False,\n",
    "    )\n",
    "\n",
    "    save_objs = {}\n",
    "\n",
    "    total_loss = 0.0\n",
    "    total_samples = 0.0\n",
    "    total_correct = 0.0\n",
    "    for i, data in enumerate(dataloader):\n",
    "        x, y, meta = data\n",
    "        x = x.to(device)\n",
    "        y = y.to(device)\n",
    "\n",
    "        y_pred = model(x)\n",
    "        loss = criterion(y_pred, y)\n",
    "\n",
    "        with torch.no_grad():\n",
    "            _, predictions = torch.max(y_pred, 1)\n",
    "            total_samples += y.shape[0]\n",
    "            total_correct += (predictions == y).float().sum()\n",
    "\n",
    "        for i in range(y.shape[0]):\n",
    "            output_path = meta['output_path'][i]\n",
    "            if output_path not in save_objs:\n",
    "                save_objs[output_path] = {}\n",
    "            frame = int(meta['frame'][i])\n",
    "            if frame not in save_objs[output_path]:\n",
    "                save_objs[output_path][frame] = {}\n",
    "            save_objs[output_path][frame][meta['vehicle_id'][i]] = {\n",
    "                'id': meta['vehicle_id'][i],\n",
    "                'frame': int(meta['frame'][i]),\n",
    "                'timestamp': float(meta['timestamp'][i]),\n",
    "                'location': meta['vehicle_location'][i].tolist(),\n",
    "                'rotation': meta['vehicle_rotation'][i].tolist(),\n",
    "                'current_action': actions[predictions[i]],\n",
    "                'current_action_gt': meta['current_action'][i],\n",
    "            }\n",
    "\n",
    "        total_loss += loss.item()\n",
    "    total_loss = total_loss / len(dataloader)\n",
    "    total_acc = total_correct / total_samples\n",
    "    print(f'Average loss: {total_loss} accuracy: {total_acc}')\n",
    "\n",
    "    for filepath, frames in save_objs.items():\n",
    "        os.makedirs(os.path.dirname(filepath), exist_ok=True)\n",
    "        with open(filepath, 'w') as file:\n",
    "            for frame in sorted(list(frames.keys())):\n",
    "                line = json.dumps(save_objs[filepath][frame])\n",
    "                file.write(line+\"\\n\")\n",
    "\n",
    "write_pred()"
   ]
  }
 ],
 "metadata": {
  "kernelspec": {
   "display_name": "Python 3.9.13 ('venv': venv)",
   "language": "python",
   "name": "python3"
  },
  "language_info": {
   "codemirror_mode": {
    "name": "ipython",
    "version": 3
   },
   "file_extension": ".py",
   "mimetype": "text/x-python",
   "name": "python",
   "nbconvert_exporter": "python",
   "pygments_lexer": "ipython3",
   "version": "3.9.13"
  },
  "orig_nbformat": 4,
  "vscode": {
   "interpreter": {
    "hash": "da7e20478b5a775c0656e92accb7702d4567ea1fb2ed254df86c89875ad00a36"
   }
  }
 },
 "nbformat": 4,
 "nbformat_minor": 2
}
